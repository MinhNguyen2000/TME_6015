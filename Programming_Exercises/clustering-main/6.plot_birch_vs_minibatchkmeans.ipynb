{
  "cells": [
    {
      "cell_type": "markdown",
      "metadata": {
        "id": "view-in-github",
        "colab_type": "text"
      },
      "source": [
        "<a href=\"https://colab.research.google.com/github/UNB-TME/Week-9-Clustering/blob/main/6.plot_birch_vs_minibatchkmeans.ipynb\" target=\"_parent\"><img src=\"https://colab.research.google.com/assets/colab-badge.svg\" alt=\"Open In Colab\"/></a>"
      ]
    },
    {
      "cell_type": "markdown",
      "metadata": {
        "id": "gwC9ciVkUjGg"
      },
      "source": [
        "\n",
        "# Compare BIRCH and MiniBatchKMeans\n",
        "\n",
        "This example compares the timing of BIRCH (with and without the global\n",
        "clustering step) and MiniBatchKMeans on a synthetic dataset having\n",
        "25,000 samples and 2 features generated using make_blobs.\n",
        "\n",
        "Both ``MiniBatchKMeans`` and ``BIRCH`` are very scalable algorithms and could\n",
        "run efficiently on hundreds of thousands or even millions of datapoints. We\n",
        "chose to limit the dataset size of this example in the interest of keeping\n",
        "our Continuous Integration resource usage reasonable but the interested\n",
        "reader might enjoy editing this script to rerun it with a larger value for\n",
        "`n_samples`.\n",
        "\n",
        "If ``n_clusters`` is set to None, the data is reduced from 25,000\n",
        "samples to a set of 158 clusters. This can be viewed as a preprocessing\n",
        "step before the final (global) clustering step that further reduces these\n",
        "158 clusters to 100 clusters.\n"
      ]
    },
    {
      "cell_type": "code",
      "execution_count": null,
      "metadata": {
        "id": "rF9y5G1aUjGj"
      },
      "outputs": [],
      "source": [
        "# Authors: Manoj Kumar <manojkumarsivaraj334@gmail.com\n",
        "#          Alexandre Gramfort <alexandre.gramfort@telecom-paristech.fr>\n",
        "# License: BSD 3 clause\n",
        "\n",
        "from itertools import cycle\n",
        "from time import time\n",
        "\n",
        "import matplotlib.colors as colors\n",
        "import matplotlib.pyplot as plt\n",
        "import numpy as np\n",
        "from joblib import cpu_count\n",
        "\n",
        "from sklearn.cluster import Birch, MiniBatchKMeans\n",
        "from sklearn.datasets import make_blobs\n",
        "\n",
        "# Generate centers for the blobs so that it forms a 10 X 10 grid.\n",
        "xx = np.linspace(-22, 22, 10)\n",
        "yy = np.linspace(-22, 22, 10)\n",
        "xx, yy = np.meshgrid(xx, yy)\n",
        "n_centers = np.hstack((np.ravel(xx)[:, np.newaxis], np.ravel(yy)[:, np.newaxis]))\n",
        "\n",
        "# Generate blobs to do a comparison between MiniBatchKMeans and BIRCH.\n",
        "X, y = make_blobs(n_samples=25000, centers=n_centers, random_state=0)\n",
        "\n",
        "# Use all colors that matplotlib provides by default.\n",
        "colors_ = cycle(colors.cnames.keys())\n",
        "\n",
        "fig = plt.figure(figsize=(12, 4))\n",
        "fig.subplots_adjust(left=0.04, right=0.98, bottom=0.1, top=0.9)\n",
        "\n",
        "# Compute clustering with BIRCH with and without the final clustering step\n",
        "# and plot.\n",
        "birch_models = [\n",
        "    Birch(threshold=1.7, n_clusters=None),\n",
        "    Birch(threshold=1.7, n_clusters=100),\n",
        "]\n",
        "final_step = [\"without global clustering\", \"with global clustering\"]\n",
        "\n",
        "for ind, (birch_model, info) in enumerate(zip(birch_models, final_step)):\n",
        "    t = time()\n",
        "    birch_model.fit(X)\n",
        "    print(\"BIRCH %s as the final step took %0.2f seconds\" % (info, (time() - t)))\n",
        "\n",
        "    # Plot result\n",
        "    labels = birch_model.labels_\n",
        "    centroids = birch_model.subcluster_centers_\n",
        "    n_clusters = np.unique(labels).size\n",
        "    print(\"n_clusters : %d\" % n_clusters)\n",
        "\n",
        "    ax = fig.add_subplot(1, 3, ind + 1)\n",
        "    for this_centroid, k, col in zip(centroids, range(n_clusters), colors_):\n",
        "        mask = labels == k\n",
        "        ax.scatter(X[mask, 0], X[mask, 1], c=\"w\", edgecolor=col, marker=\".\", alpha=0.5)\n",
        "        if birch_model.n_clusters is None:\n",
        "            ax.scatter(this_centroid[0], this_centroid[1], marker=\"+\", c=\"k\", s=25)\n",
        "    ax.set_ylim([-25, 25])\n",
        "    ax.set_xlim([-25, 25])\n",
        "    ax.set_autoscaley_on(False)\n",
        "    ax.set_title(\"BIRCH %s\" % info)\n",
        "\n",
        "# Compute clustering with MiniBatchKMeans.\n",
        "mbk = MiniBatchKMeans(\n",
        "    init=\"k-means++\",\n",
        "    n_clusters=100,\n",
        "    batch_size=256 * cpu_count(),\n",
        "    n_init=10,\n",
        "    max_no_improvement=10,\n",
        "    verbose=0,\n",
        "    random_state=0,\n",
        ")\n",
        "t0 = time()\n",
        "mbk.fit(X)\n",
        "t_mini_batch = time() - t0\n",
        "print(\"Time taken to run MiniBatchKMeans %0.2f seconds\" % t_mini_batch)\n",
        "mbk_means_labels_unique = np.unique(mbk.labels_)\n",
        "\n",
        "ax = fig.add_subplot(1, 3, 3)\n",
        "for this_centroid, k, col in zip(mbk.cluster_centers_, range(n_clusters), colors_):\n",
        "    mask = mbk.labels_ == k\n",
        "    ax.scatter(X[mask, 0], X[mask, 1], marker=\".\", c=\"w\", edgecolor=col, alpha=0.5)\n",
        "    ax.scatter(this_centroid[0], this_centroid[1], marker=\"+\", c=\"k\", s=25)\n",
        "ax.set_xlim([-25, 25])\n",
        "ax.set_ylim([-25, 25])\n",
        "ax.set_title(\"MiniBatchKMeans\")\n",
        "ax.set_autoscaley_on(False)\n",
        "plt.show()"
      ]
    }
  ],
  "metadata": {
    "kernelspec": {
      "display_name": "Python 3",
      "language": "python",
      "name": "python3"
    },
    "language_info": {
      "codemirror_mode": {
        "name": "ipython",
        "version": 3
      },
      "file_extension": ".py",
      "mimetype": "text/x-python",
      "name": "python",
      "nbconvert_exporter": "python",
      "pygments_lexer": "ipython3",
      "version": "3.9.18"
    },
    "colab": {
      "provenance": [],
      "include_colab_link": true
    }
  },
  "nbformat": 4,
  "nbformat_minor": 0
}