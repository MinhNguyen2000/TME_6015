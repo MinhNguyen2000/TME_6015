{
  "cells": [
    {
      "cell_type": "markdown",
      "metadata": {
        "id": "view-in-github",
        "colab_type": "text"
      },
      "source": [
        "<a href=\"https://colab.research.google.com/github/UNB-TME/Week-9-Clustering/blob/main/4.plot_coin_ward_segmentation.ipynb\" target=\"_parent\"><img src=\"https://colab.research.google.com/assets/colab-badge.svg\" alt=\"Open In Colab\"/></a>"
      ]
    },
    {
      "cell_type": "markdown",
      "metadata": {
        "id": "rCyzsTB8UCsA"
      },
      "source": [
        "\n",
        "# A demo of structured Ward hierarchical clustering on an image of coins\n",
        "\n",
        "Compute the segmentation of a 2D image with Ward hierarchical\n",
        "clustering. The clustering is spatially constrained in order\n",
        "for each segmented region to be in one piece.\n"
      ]
    },
    {
      "cell_type": "code",
      "execution_count": null,
      "metadata": {
        "id": "P7Giex10UCsC"
      },
      "outputs": [],
      "source": [
        "# Author : Vincent Michel, 2010\n",
        "#          Alexandre Gramfort, 2011\n",
        "# License: BSD 3 clause"
      ]
    },
    {
      "cell_type": "markdown",
      "metadata": {
        "id": "XnQIHW0LUCsE"
      },
      "source": [
        "## Generate data\n",
        "\n"
      ]
    },
    {
      "cell_type": "code",
      "execution_count": null,
      "metadata": {
        "id": "1gSwwgw7UCsE"
      },
      "outputs": [],
      "source": [
        "from skimage.data import coins\n",
        "\n",
        "orig_coins = coins()"
      ]
    },
    {
      "cell_type": "markdown",
      "metadata": {
        "id": "7KSvdngfUCsE"
      },
      "source": [
        "Resize it to 20% of the original size to speed up the processing\n",
        "Applying a Gaussian filter for smoothing prior to down-scaling\n",
        "reduces aliasing artifacts.\n",
        "\n"
      ]
    },
    {
      "cell_type": "code",
      "execution_count": null,
      "metadata": {
        "id": "JD40kPnMUCsE"
      },
      "outputs": [],
      "source": [
        "import numpy as np\n",
        "from scipy.ndimage import gaussian_filter\n",
        "from skimage.transform import rescale\n",
        "\n",
        "smoothened_coins = gaussian_filter(orig_coins, sigma=2)\n",
        "rescaled_coins = rescale(\n",
        "    smoothened_coins,\n",
        "    0.2,\n",
        "    mode=\"reflect\",\n",
        "    anti_aliasing=False,\n",
        ")\n",
        "\n",
        "X = np.reshape(rescaled_coins, (-1, 1))"
      ]
    },
    {
      "cell_type": "markdown",
      "metadata": {
        "id": "lyOzmZIVUCsF"
      },
      "source": [
        "## Define structure of the data\n",
        "\n",
        "Pixels are connected to their neighbors.\n",
        "\n"
      ]
    },
    {
      "cell_type": "code",
      "execution_count": null,
      "metadata": {
        "id": "h2icuxjSUCsF"
      },
      "outputs": [],
      "source": [
        "from sklearn.feature_extraction.image import grid_to_graph\n",
        "\n",
        "connectivity = grid_to_graph(*rescaled_coins.shape)"
      ]
    },
    {
      "cell_type": "markdown",
      "metadata": {
        "id": "oU2t0-EPUCsF"
      },
      "source": [
        "## Compute clustering\n",
        "\n"
      ]
    },
    {
      "cell_type": "code",
      "execution_count": null,
      "metadata": {
        "id": "8gSibQDkUCsF"
      },
      "outputs": [],
      "source": [
        "import time as time\n",
        "\n",
        "from sklearn.cluster import AgglomerativeClustering\n",
        "\n",
        "print(\"Compute structured hierarchical clustering...\")\n",
        "st = time.time()\n",
        "n_clusters = 27  # number of regions\n",
        "ward = AgglomerativeClustering(\n",
        "    n_clusters=n_clusters, linkage=\"ward\", connectivity=connectivity\n",
        ")\n",
        "ward.fit(X)\n",
        "label = np.reshape(ward.labels_, rescaled_coins.shape)\n",
        "print(f\"Elapsed time: {time.time() - st:.3f}s\")\n",
        "print(f\"Number of pixels: {label.size}\")\n",
        "print(f\"Number of clusters: {np.unique(label).size}\")"
      ]
    },
    {
      "cell_type": "markdown",
      "metadata": {
        "id": "xiZzJDEnUCsG"
      },
      "source": [
        "## Plot the results on an image\n",
        "\n",
        "Agglomerative clustering is able to segment each coin however, we have had to\n",
        "use a ``n_cluster`` larger than the number of coins because the segmentation\n",
        "is finding a large in the background.\n",
        "\n"
      ]
    },
    {
      "cell_type": "code",
      "execution_count": null,
      "metadata": {
        "id": "Q_Fiskf7UCsG"
      },
      "outputs": [],
      "source": [
        "import matplotlib.pyplot as plt\n",
        "\n",
        "plt.figure(figsize=(5, 5))\n",
        "plt.imshow(rescaled_coins, cmap=plt.cm.gray)\n",
        "for l in range(n_clusters):\n",
        "    plt.contour(\n",
        "        label == l,\n",
        "        colors=[\n",
        "            plt.cm.nipy_spectral(l / float(n_clusters)),\n",
        "        ],\n",
        "    )\n",
        "plt.axis(\"off\")\n",
        "plt.show()"
      ]
    }
  ],
  "metadata": {
    "kernelspec": {
      "display_name": "Python 3",
      "language": "python",
      "name": "python3"
    },
    "language_info": {
      "codemirror_mode": {
        "name": "ipython",
        "version": 3
      },
      "file_extension": ".py",
      "mimetype": "text/x-python",
      "name": "python",
      "nbconvert_exporter": "python",
      "pygments_lexer": "ipython3",
      "version": "3.9.18"
    },
    "colab": {
      "provenance": [],
      "include_colab_link": true
    }
  },
  "nbformat": 4,
  "nbformat_minor": 0
}