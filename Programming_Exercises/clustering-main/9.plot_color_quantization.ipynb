{
  "cells": [
    {
      "cell_type": "markdown",
      "metadata": {
        "id": "view-in-github",
        "colab_type": "text"
      },
      "source": [
        "<a href=\"https://colab.research.google.com/github/UNB-TME/Week-9-Clustering/blob/main/9.plot_color_quantization.ipynb\" target=\"_parent\"><img src=\"https://colab.research.google.com/assets/colab-badge.svg\" alt=\"Open In Colab\"/></a>"
      ]
    },
    {
      "cell_type": "markdown",
      "metadata": {
        "id": "YjYXFsjeUlpq"
      },
      "source": [
        "\n",
        "# Color Quantization using K-Means\n",
        "\n",
        "Performs a pixel-wise Vector Quantization (VQ) of an image of the summer palace\n",
        "(China), reducing the number of colors required to show the image from 96,615\n",
        "unique colors to 64, while preserving the overall appearance quality.\n",
        "\n",
        "In this example, pixels are represented in a 3D-space and K-means is used to\n",
        "find 64 color clusters. In the image processing literature, the codebook\n",
        "obtained from K-means (the cluster centers) is called the color palette. Using\n",
        "a single byte, up to 256 colors can be addressed, whereas an RGB encoding\n",
        "requires 3 bytes per pixel. The GIF file format, for example, uses such a\n",
        "palette.\n",
        "\n",
        "For comparison, a quantized image using a random codebook (colors picked up\n",
        "randomly) is also shown.\n"
      ]
    },
    {
      "cell_type": "code",
      "execution_count": null,
      "metadata": {
        "id": "kqwzX8zAUlps"
      },
      "outputs": [],
      "source": [
        "# Authors: Robert Layton <robertlayton@gmail.com>\n",
        "#          Olivier Grisel <olivier.grisel@ensta.org>\n",
        "#          Mathieu Blondel <mathieu@mblondel.org>\n",
        "#\n",
        "# License: BSD 3 clause\n",
        "\n",
        "from time import time\n",
        "\n",
        "import matplotlib.pyplot as plt\n",
        "import numpy as np\n",
        "\n",
        "from sklearn.cluster import KMeans\n",
        "from sklearn.datasets import load_sample_image\n",
        "from sklearn.metrics import pairwise_distances_argmin\n",
        "from sklearn.utils import shuffle\n",
        "\n",
        "n_colors = 64\n",
        "\n",
        "# Load the Summer Palace photo\n",
        "china = load_sample_image(\"china.jpg\")\n",
        "\n",
        "# Convert to floats instead of the default 8 bits integer coding. Dividing by\n",
        "# 255 is important so that plt.imshow behaves works well on float data (need to\n",
        "# be in the range [0-1])\n",
        "china = np.array(china, dtype=np.float64) / 255\n",
        "\n",
        "# Load Image and transform to a 2D numpy array.\n",
        "w, h, d = original_shape = tuple(china.shape)\n",
        "assert d == 3\n",
        "image_array = np.reshape(china, (w * h, d))\n",
        "\n",
        "print(\"Fitting model on a small sub-sample of the data\")\n",
        "t0 = time()\n",
        "image_array_sample = shuffle(image_array, random_state=0, n_samples=1_000)\n",
        "kmeans = KMeans(n_clusters=n_colors, n_init=\"auto\", random_state=0).fit(\n",
        "    image_array_sample\n",
        ")\n",
        "print(f\"done in {time() - t0:0.3f}s.\")\n",
        "\n",
        "# Get labels for all points\n",
        "print(\"Predicting color indices on the full image (k-means)\")\n",
        "t0 = time()\n",
        "labels = kmeans.predict(image_array)\n",
        "print(f\"done in {time() - t0:0.3f}s.\")\n",
        "\n",
        "\n",
        "codebook_random = shuffle(image_array, random_state=0, n_samples=n_colors)\n",
        "print(\"Predicting color indices on the full image (random)\")\n",
        "t0 = time()\n",
        "labels_random = pairwise_distances_argmin(codebook_random, image_array, axis=0)\n",
        "print(f\"done in {time() - t0:0.3f}s.\")\n",
        "\n",
        "\n",
        "def recreate_image(codebook, labels, w, h):\n",
        "    \"\"\"Recreate the (compressed) image from the code book & labels\"\"\"\n",
        "    return codebook[labels].reshape(w, h, -1)\n",
        "\n",
        "\n",
        "# Display all results, alongside original image\n",
        "plt.figure(1)\n",
        "plt.clf()\n",
        "plt.axis(\"off\")\n",
        "plt.title(\"Original image (96,615 colors)\")\n",
        "plt.imshow(china)\n",
        "\n",
        "plt.figure(2)\n",
        "plt.clf()\n",
        "plt.axis(\"off\")\n",
        "plt.title(f\"Quantized image ({n_colors} colors, K-Means)\")\n",
        "plt.imshow(recreate_image(kmeans.cluster_centers_, labels, w, h))\n",
        "\n",
        "plt.figure(3)\n",
        "plt.clf()\n",
        "plt.axis(\"off\")\n",
        "plt.title(f\"Quantized image ({n_colors} colors, Random)\")\n",
        "plt.imshow(recreate_image(codebook_random, labels_random, w, h))\n",
        "plt.show()"
      ]
    }
  ],
  "metadata": {
    "kernelspec": {
      "display_name": "Python 3",
      "language": "python",
      "name": "python3"
    },
    "language_info": {
      "codemirror_mode": {
        "name": "ipython",
        "version": 3
      },
      "file_extension": ".py",
      "mimetype": "text/x-python",
      "name": "python",
      "nbconvert_exporter": "python",
      "pygments_lexer": "ipython3",
      "version": "3.9.18"
    },
    "colab": {
      "provenance": [],
      "include_colab_link": true
    }
  },
  "nbformat": 4,
  "nbformat_minor": 0
}