{
 "cells": [
  {
   "cell_type": "markdown",
   "metadata": {},
   "source": [
    "**Handling Imbalanced datasets**    \n",
    "There are 4 commonly used methods for handling imbalanced datasets   \n",
    "**Sampling methods for handling imbalance datasets**\n",
    "1. Downsampling (Under sampling)\n",
    "2. Upsampling (Over sampling)\n",
    "3. Upweighting\n",
    "4. Combination of over- and under-sampling\n",
    "\n",
    "1.**Downsampling(Under sampling):**  \n",
    " In this the classes are balanced by performing resampling on majority class. It reduces the size of majority class in order to match with the size of the minority class.\n",
    " There are different methods to perform this sampling. one of those method is Random Under sampler, which selectes a subset of data randomly to balance the data in target classes.\n",
    "\n",
    "2.**Upsampling (Over sampling):**\n",
    "  This method is used when there is an insufficient data. In this the resampling performed on minority class. It increases the size of the minority class in order to match with the size   of the majority class.One best example of this sampling is SMOTE (Synthetic minority over sampling Technique).It works by creating synthetic samples from the minor class to balance the   data in target classes.\n",
    "  \n",
    "3.**Upweighting:**\n",
    "  Here the classes are balanced by scaling the weight of minority class. This weight is scaled by taking the ratio of number of samples in majority class to the number of samples in       minority class. A minority class weight of 30 (say) means the model treats the minority class as 30 times as important as it would majority class of weight 1. \n",
    "  \n",
    " Generally these 3 methods are most widely used to handle imbalanced data in building ML models. For DL models there is a separate batch generator to handle highly imbalanced data.\n",
    " \n",
    " For more details about sampling methods, please check below link,  \n",
    " https://imbalanced-learn.readthedocs.io/en/stable/api.html#module-imblearn.over_sampling\n",
    " "
   ]
  },
  {
   "cell_type": "code",
   "execution_count": 1,
   "metadata": {
    "_cell_guid": "b1076dfc-b9ad-4769-8c92-a6c4dae69d19",
    "_uuid": "8f2839f25d086af736a60e9eeb907d3b93b6e0e5"
   },
   "outputs": [
    {
     "name": "stdout",
     "output_type": "stream",
     "text": [
      "/kaggle/input/talkingdata-adtracking-fraud-detection/train.csv\n",
      "/kaggle/input/talkingdata-adtracking-fraud-detection/test_supplement.csv\n",
      "/kaggle/input/talkingdata-adtracking-fraud-detection/sample_submission.csv\n",
      "/kaggle/input/talkingdata-adtracking-fraud-detection/train_sample.csv\n",
      "/kaggle/input/talkingdata-adtracking-fraud-detection/test.csv\n"
     ]
    }
   ],
   "source": [
    "#Import required libraries\n",
    "import numpy as np \n",
    "import pandas as pd \n",
    "import warnings\n",
    "warnings.filterwarnings('ignore')\n",
    "import os\n",
    "for dirname, _, filenames in os.walk('/kaggle/input'):\n",
    "    for filename in filenames:\n",
    "        print(os.path.join(dirname, filename))"
   ]
  },
  {
   "cell_type": "code",
   "execution_count": 2,
   "metadata": {
    "_cell_guid": "79c7e3d0-c299-4dcb-8224-4455121ee9b0",
    "_uuid": "d629ff2d2480ee46fbb7e2d37f6b5fab8052498a"
   },
   "outputs": [
    {
     "data": {
      "text/html": [
       "<div>\n",
       "<style scoped>\n",
       "    .dataframe tbody tr th:only-of-type {\n",
       "        vertical-align: middle;\n",
       "    }\n",
       "\n",
       "    .dataframe tbody tr th {\n",
       "        vertical-align: top;\n",
       "    }\n",
       "\n",
       "    .dataframe thead th {\n",
       "        text-align: right;\n",
       "    }\n",
       "</style>\n",
       "<table border=\"1\" class=\"dataframe\">\n",
       "  <thead>\n",
       "    <tr style=\"text-align: right;\">\n",
       "      <th></th>\n",
       "      <th>ip</th>\n",
       "      <th>app</th>\n",
       "      <th>device</th>\n",
       "      <th>os</th>\n",
       "      <th>channel</th>\n",
       "      <th>click_time</th>\n",
       "      <th>attributed_time</th>\n",
       "      <th>is_attributed</th>\n",
       "    </tr>\n",
       "  </thead>\n",
       "  <tbody>\n",
       "    <tr>\n",
       "      <th>0</th>\n",
       "      <td>29540</td>\n",
       "      <td>3</td>\n",
       "      <td>1</td>\n",
       "      <td>42</td>\n",
       "      <td>489</td>\n",
       "      <td>2017-11-08 03:57:46</td>\n",
       "      <td>NaN</td>\n",
       "      <td>0</td>\n",
       "    </tr>\n",
       "    <tr>\n",
       "      <th>1</th>\n",
       "      <td>26777</td>\n",
       "      <td>11</td>\n",
       "      <td>1</td>\n",
       "      <td>25</td>\n",
       "      <td>319</td>\n",
       "      <td>2017-11-09 11:02:14</td>\n",
       "      <td>NaN</td>\n",
       "      <td>0</td>\n",
       "    </tr>\n",
       "    <tr>\n",
       "      <th>2</th>\n",
       "      <td>140926</td>\n",
       "      <td>12</td>\n",
       "      <td>1</td>\n",
       "      <td>13</td>\n",
       "      <td>140</td>\n",
       "      <td>2017-11-07 04:36:14</td>\n",
       "      <td>NaN</td>\n",
       "      <td>0</td>\n",
       "    </tr>\n",
       "    <tr>\n",
       "      <th>3</th>\n",
       "      <td>69375</td>\n",
       "      <td>2</td>\n",
       "      <td>1</td>\n",
       "      <td>19</td>\n",
       "      <td>377</td>\n",
       "      <td>2017-11-09 13:17:20</td>\n",
       "      <td>NaN</td>\n",
       "      <td>0</td>\n",
       "    </tr>\n",
       "    <tr>\n",
       "      <th>4</th>\n",
       "      <td>119166</td>\n",
       "      <td>9</td>\n",
       "      <td>2</td>\n",
       "      <td>15</td>\n",
       "      <td>445</td>\n",
       "      <td>2017-11-07 12:11:37</td>\n",
       "      <td>NaN</td>\n",
       "      <td>0</td>\n",
       "    </tr>\n",
       "  </tbody>\n",
       "</table>\n",
       "</div>"
      ],
      "text/plain": [
       "       ip  app  device  os  channel           click_time attributed_time  \\\n",
       "0   29540    3       1  42      489  2017-11-08 03:57:46             NaN   \n",
       "1   26777   11       1  25      319  2017-11-09 11:02:14             NaN   \n",
       "2  140926   12       1  13      140  2017-11-07 04:36:14             NaN   \n",
       "3   69375    2       1  19      377  2017-11-09 13:17:20             NaN   \n",
       "4  119166    9       2  15      445  2017-11-07 12:11:37             NaN   \n",
       "\n",
       "   is_attributed  \n",
       "0              0  \n",
       "1              0  \n",
       "2              0  \n",
       "3              0  \n",
       "4              0  "
      ]
     },
     "execution_count": 2,
     "metadata": {},
     "output_type": "execute_result"
    }
   ],
   "source": [
    "df=pd.read_csv('../input/talkingdata-adtracking-fraud-detection/train_sample.csv')\n",
    "df.head()"
   ]
  },
  {
   "cell_type": "code",
   "execution_count": 3,
   "metadata": {},
   "outputs": [],
   "source": [
    "#convert timestamp to datatime\n",
    "def todatetime(df):\n",
    "    df['click_time']=pd.to_datetime(df['click_time'])\n",
    "    df['click_hour']=df['click_time'].dt.hour\n",
    "    df['click_day']=df['click_time'].dt.day\n",
    "    df['click_weekday']=df['click_time'].dt.weekday\n",
    "    df['click_month']=df['click_time'].dt.month\n",
    "    df['click_year']=df['click_time'].dt.year\n",
    "    return df"
   ]
  },
  {
   "cell_type": "code",
   "execution_count": 4,
   "metadata": {},
   "outputs": [],
   "source": [
    "df=todatetime(df)"
   ]
  },
  {
   "cell_type": "code",
   "execution_count": 5,
   "metadata": {},
   "outputs": [],
   "source": [
    "df=df.drop(['click_time'],axis=1)"
   ]
  },
  {
   "cell_type": "code",
   "execution_count": 6,
   "metadata": {},
   "outputs": [
    {
     "data": {
      "text/html": [
       "<div>\n",
       "<style scoped>\n",
       "    .dataframe tbody tr th:only-of-type {\n",
       "        vertical-align: middle;\n",
       "    }\n",
       "\n",
       "    .dataframe tbody tr th {\n",
       "        vertical-align: top;\n",
       "    }\n",
       "\n",
       "    .dataframe thead th {\n",
       "        text-align: right;\n",
       "    }\n",
       "</style>\n",
       "<table border=\"1\" class=\"dataframe\">\n",
       "  <thead>\n",
       "    <tr style=\"text-align: right;\">\n",
       "      <th></th>\n",
       "      <th>ip</th>\n",
       "      <th>app</th>\n",
       "      <th>device</th>\n",
       "      <th>os</th>\n",
       "      <th>channel</th>\n",
       "      <th>attributed_time</th>\n",
       "      <th>is_attributed</th>\n",
       "      <th>click_hour</th>\n",
       "      <th>click_day</th>\n",
       "      <th>click_weekday</th>\n",
       "      <th>click_month</th>\n",
       "      <th>click_year</th>\n",
       "    </tr>\n",
       "  </thead>\n",
       "  <tbody>\n",
       "    <tr>\n",
       "      <th>0</th>\n",
       "      <td>29540</td>\n",
       "      <td>3</td>\n",
       "      <td>1</td>\n",
       "      <td>42</td>\n",
       "      <td>489</td>\n",
       "      <td>NaN</td>\n",
       "      <td>0</td>\n",
       "      <td>3</td>\n",
       "      <td>8</td>\n",
       "      <td>2</td>\n",
       "      <td>11</td>\n",
       "      <td>2017</td>\n",
       "    </tr>\n",
       "    <tr>\n",
       "      <th>1</th>\n",
       "      <td>26777</td>\n",
       "      <td>11</td>\n",
       "      <td>1</td>\n",
       "      <td>25</td>\n",
       "      <td>319</td>\n",
       "      <td>NaN</td>\n",
       "      <td>0</td>\n",
       "      <td>11</td>\n",
       "      <td>9</td>\n",
       "      <td>3</td>\n",
       "      <td>11</td>\n",
       "      <td>2017</td>\n",
       "    </tr>\n",
       "    <tr>\n",
       "      <th>2</th>\n",
       "      <td>140926</td>\n",
       "      <td>12</td>\n",
       "      <td>1</td>\n",
       "      <td>13</td>\n",
       "      <td>140</td>\n",
       "      <td>NaN</td>\n",
       "      <td>0</td>\n",
       "      <td>4</td>\n",
       "      <td>7</td>\n",
       "      <td>1</td>\n",
       "      <td>11</td>\n",
       "      <td>2017</td>\n",
       "    </tr>\n",
       "    <tr>\n",
       "      <th>3</th>\n",
       "      <td>69375</td>\n",
       "      <td>2</td>\n",
       "      <td>1</td>\n",
       "      <td>19</td>\n",
       "      <td>377</td>\n",
       "      <td>NaN</td>\n",
       "      <td>0</td>\n",
       "      <td>13</td>\n",
       "      <td>9</td>\n",
       "      <td>3</td>\n",
       "      <td>11</td>\n",
       "      <td>2017</td>\n",
       "    </tr>\n",
       "    <tr>\n",
       "      <th>4</th>\n",
       "      <td>119166</td>\n",
       "      <td>9</td>\n",
       "      <td>2</td>\n",
       "      <td>15</td>\n",
       "      <td>445</td>\n",
       "      <td>NaN</td>\n",
       "      <td>0</td>\n",
       "      <td>12</td>\n",
       "      <td>7</td>\n",
       "      <td>1</td>\n",
       "      <td>11</td>\n",
       "      <td>2017</td>\n",
       "    </tr>\n",
       "  </tbody>\n",
       "</table>\n",
       "</div>"
      ],
      "text/plain": [
       "       ip  app  device  os  channel attributed_time  is_attributed  \\\n",
       "0   29540    3       1  42      489             NaN              0   \n",
       "1   26777   11       1  25      319             NaN              0   \n",
       "2  140926   12       1  13      140             NaN              0   \n",
       "3   69375    2       1  19      377             NaN              0   \n",
       "4  119166    9       2  15      445             NaN              0   \n",
       "\n",
       "   click_hour  click_day  click_weekday  click_month  click_year  \n",
       "0           3          8              2           11        2017  \n",
       "1          11          9              3           11        2017  \n",
       "2           4          7              1           11        2017  \n",
       "3          13          9              3           11        2017  \n",
       "4          12          7              1           11        2017  "
      ]
     },
     "execution_count": 6,
     "metadata": {},
     "output_type": "execute_result"
    }
   ],
   "source": [
    "df.head()"
   ]
  },
  {
   "cell_type": "code",
   "execution_count": 7,
   "metadata": {},
   "outputs": [
    {
     "data": {
      "text/plain": [
       "ip                     0\n",
       "app                    0\n",
       "device                 0\n",
       "os                     0\n",
       "channel                0\n",
       "attributed_time    99749\n",
       "is_attributed          0\n",
       "click_hour             0\n",
       "click_day              0\n",
       "click_weekday          0\n",
       "click_month            0\n",
       "click_year             0\n",
       "dtype: int64"
      ]
     },
     "execution_count": 7,
     "metadata": {},
     "output_type": "execute_result"
    }
   ],
   "source": [
    "df.isnull().sum()"
   ]
  },
  {
   "cell_type": "code",
   "execution_count": 8,
   "metadata": {},
   "outputs": [],
   "source": [
    "df=df.drop('attributed_time',axis=1)"
   ]
  },
  {
   "cell_type": "code",
   "execution_count": 9,
   "metadata": {},
   "outputs": [
    {
     "data": {
      "text/html": [
       "<div>\n",
       "<style scoped>\n",
       "    .dataframe tbody tr th:only-of-type {\n",
       "        vertical-align: middle;\n",
       "    }\n",
       "\n",
       "    .dataframe tbody tr th {\n",
       "        vertical-align: top;\n",
       "    }\n",
       "\n",
       "    .dataframe thead th {\n",
       "        text-align: right;\n",
       "    }\n",
       "</style>\n",
       "<table border=\"1\" class=\"dataframe\">\n",
       "  <thead>\n",
       "    <tr style=\"text-align: right;\">\n",
       "      <th></th>\n",
       "      <th>ip</th>\n",
       "      <th>app</th>\n",
       "      <th>device</th>\n",
       "      <th>os</th>\n",
       "      <th>channel</th>\n",
       "      <th>is_attributed</th>\n",
       "      <th>click_hour</th>\n",
       "      <th>click_day</th>\n",
       "      <th>click_weekday</th>\n",
       "      <th>click_month</th>\n",
       "      <th>click_year</th>\n",
       "    </tr>\n",
       "  </thead>\n",
       "  <tbody>\n",
       "    <tr>\n",
       "      <th>86366</th>\n",
       "      <td>199348</td>\n",
       "      <td>9</td>\n",
       "      <td>1</td>\n",
       "      <td>19</td>\n",
       "      <td>466</td>\n",
       "      <td>0</td>\n",
       "      <td>15</td>\n",
       "      <td>9</td>\n",
       "      <td>3</td>\n",
       "      <td>11</td>\n",
       "      <td>2017</td>\n",
       "    </tr>\n",
       "    <tr>\n",
       "      <th>74189</th>\n",
       "      <td>58614</td>\n",
       "      <td>18</td>\n",
       "      <td>1</td>\n",
       "      <td>3</td>\n",
       "      <td>107</td>\n",
       "      <td>0</td>\n",
       "      <td>2</td>\n",
       "      <td>7</td>\n",
       "      <td>1</td>\n",
       "      <td>11</td>\n",
       "      <td>2017</td>\n",
       "    </tr>\n",
       "    <tr>\n",
       "      <th>10832</th>\n",
       "      <td>30614</td>\n",
       "      <td>3</td>\n",
       "      <td>2</td>\n",
       "      <td>6</td>\n",
       "      <td>280</td>\n",
       "      <td>0</td>\n",
       "      <td>7</td>\n",
       "      <td>8</td>\n",
       "      <td>2</td>\n",
       "      <td>11</td>\n",
       "      <td>2017</td>\n",
       "    </tr>\n",
       "    <tr>\n",
       "      <th>14257</th>\n",
       "      <td>111159</td>\n",
       "      <td>1</td>\n",
       "      <td>1</td>\n",
       "      <td>19</td>\n",
       "      <td>134</td>\n",
       "      <td>0</td>\n",
       "      <td>11</td>\n",
       "      <td>8</td>\n",
       "      <td>2</td>\n",
       "      <td>11</td>\n",
       "      <td>2017</td>\n",
       "    </tr>\n",
       "    <tr>\n",
       "      <th>77911</th>\n",
       "      <td>77257</td>\n",
       "      <td>14</td>\n",
       "      <td>1</td>\n",
       "      <td>19</td>\n",
       "      <td>467</td>\n",
       "      <td>0</td>\n",
       "      <td>14</td>\n",
       "      <td>8</td>\n",
       "      <td>2</td>\n",
       "      <td>11</td>\n",
       "      <td>2017</td>\n",
       "    </tr>\n",
       "    <tr>\n",
       "      <th>...</th>\n",
       "      <td>...</td>\n",
       "      <td>...</td>\n",
       "      <td>...</td>\n",
       "      <td>...</td>\n",
       "      <td>...</td>\n",
       "      <td>...</td>\n",
       "      <td>...</td>\n",
       "      <td>...</td>\n",
       "      <td>...</td>\n",
       "      <td>...</td>\n",
       "      <td>...</td>\n",
       "    </tr>\n",
       "    <tr>\n",
       "      <th>44592</th>\n",
       "      <td>15643</td>\n",
       "      <td>9</td>\n",
       "      <td>1</td>\n",
       "      <td>13</td>\n",
       "      <td>244</td>\n",
       "      <td>0</td>\n",
       "      <td>1</td>\n",
       "      <td>7</td>\n",
       "      <td>1</td>\n",
       "      <td>11</td>\n",
       "      <td>2017</td>\n",
       "    </tr>\n",
       "    <tr>\n",
       "      <th>61798</th>\n",
       "      <td>8199</td>\n",
       "      <td>15</td>\n",
       "      <td>1</td>\n",
       "      <td>20</td>\n",
       "      <td>245</td>\n",
       "      <td>0</td>\n",
       "      <td>17</td>\n",
       "      <td>6</td>\n",
       "      <td>0</td>\n",
       "      <td>11</td>\n",
       "      <td>2017</td>\n",
       "    </tr>\n",
       "    <tr>\n",
       "      <th>73653</th>\n",
       "      <td>107379</td>\n",
       "      <td>12</td>\n",
       "      <td>1</td>\n",
       "      <td>18</td>\n",
       "      <td>105</td>\n",
       "      <td>0</td>\n",
       "      <td>12</td>\n",
       "      <td>8</td>\n",
       "      <td>2</td>\n",
       "      <td>11</td>\n",
       "      <td>2017</td>\n",
       "    </tr>\n",
       "    <tr>\n",
       "      <th>75422</th>\n",
       "      <td>59159</td>\n",
       "      <td>1</td>\n",
       "      <td>1</td>\n",
       "      <td>6</td>\n",
       "      <td>134</td>\n",
       "      <td>0</td>\n",
       "      <td>16</td>\n",
       "      <td>6</td>\n",
       "      <td>0</td>\n",
       "      <td>11</td>\n",
       "      <td>2017</td>\n",
       "    </tr>\n",
       "    <tr>\n",
       "      <th>409</th>\n",
       "      <td>85385</td>\n",
       "      <td>2</td>\n",
       "      <td>1</td>\n",
       "      <td>8</td>\n",
       "      <td>477</td>\n",
       "      <td>0</td>\n",
       "      <td>4</td>\n",
       "      <td>8</td>\n",
       "      <td>2</td>\n",
       "      <td>11</td>\n",
       "      <td>2017</td>\n",
       "    </tr>\n",
       "  </tbody>\n",
       "</table>\n",
       "<p>100000 rows × 11 columns</p>\n",
       "</div>"
      ],
      "text/plain": [
       "           ip  app  device  os  channel  is_attributed  click_hour  click_day  \\\n",
       "86366  199348    9       1  19      466              0          15          9   \n",
       "74189   58614   18       1   3      107              0           2          7   \n",
       "10832   30614    3       2   6      280              0           7          8   \n",
       "14257  111159    1       1  19      134              0          11          8   \n",
       "77911   77257   14       1  19      467              0          14          8   \n",
       "...       ...  ...     ...  ..      ...            ...         ...        ...   \n",
       "44592   15643    9       1  13      244              0           1          7   \n",
       "61798    8199   15       1  20      245              0          17          6   \n",
       "73653  107379   12       1  18      105              0          12          8   \n",
       "75422   59159    1       1   6      134              0          16          6   \n",
       "409     85385    2       1   8      477              0           4          8   \n",
       "\n",
       "       click_weekday  click_month  click_year  \n",
       "86366              3           11        2017  \n",
       "74189              1           11        2017  \n",
       "10832              2           11        2017  \n",
       "14257              2           11        2017  \n",
       "77911              2           11        2017  \n",
       "...              ...          ...         ...  \n",
       "44592              1           11        2017  \n",
       "61798              0           11        2017  \n",
       "73653              2           11        2017  \n",
       "75422              0           11        2017  \n",
       "409                2           11        2017  \n",
       "\n",
       "[100000 rows x 11 columns]"
      ]
     },
     "execution_count": 9,
     "metadata": {},
     "output_type": "execute_result"
    }
   ],
   "source": [
    "#Shuffling observations\n",
    "df=df.sample(frac=1)\n",
    "df"
   ]
  },
  {
   "cell_type": "markdown",
   "metadata": {},
   "source": [
    "**Distribution of classes in train dataset before sampling**"
   ]
  },
  {
   "cell_type": "code",
   "execution_count": 10,
   "metadata": {},
   "outputs": [
    {
     "data": {
      "image/png": "[encoded data removed]",
      "text/plain": [
       "<Figure size 720x576 with 1 Axes>"
      ]
     },
     "metadata": {
      "needs_background": "light"
     },
     "output_type": "display_data"
    }
   ],
   "source": [
    "import seaborn as sn\n",
    "import matplotlib.pyplot as plt\n",
    "plt.figure(figsize=(10,8))\n",
    "sn.countplot(x='is_attributed',data=df)\n",
    "plt.ylabel('Number of clicks')\n",
    "plt.show()"
   ]
  },
  {
   "cell_type": "markdown",
   "metadata": {},
   "source": [
    "**Classes:**  \n",
    "0- User will not download an app after clicking a mobile app advertisement    \n",
    "1- User will download an app after clicking a mobile app advertisement"
   ]
  },
  {
   "cell_type": "code",
   "execution_count": 11,
   "metadata": {},
   "outputs": [
    {
     "data": {
      "text/plain": [
       "0    99749\n",
       "1      251\n",
       "Name: is_attributed, dtype: int64"
      ]
     },
     "execution_count": 11,
     "metadata": {},
     "output_type": "execute_result"
    }
   ],
   "source": [
    "df['is_attributed'].value_counts()"
   ]
  },
  {
   "cell_type": "markdown",
   "metadata": {},
   "source": [
    "The target label data is highly imbalanced (99.75:0.25)%. This needs to be balanced to make the model to be generalize well."
   ]
  },
  {
   "cell_type": "code",
   "execution_count": 12,
   "metadata": {},
   "outputs": [
    {
     "data": {
      "text/plain": [
       "(100000,)"
      ]
     },
     "execution_count": 12,
     "metadata": {},
     "output_type": "execute_result"
    }
   ],
   "source": [
    "target_label=df['is_attributed']\n",
    "target_label.shape"
   ]
  },
  {
   "cell_type": "code",
   "execution_count": 13,
   "metadata": {},
   "outputs": [],
   "source": [
    "ones=df[df['is_attributed']==1]\n",
    "zeros=df[df['is_attributed']==0]"
   ]
  },
  {
   "cell_type": "code",
   "execution_count": 14,
   "metadata": {},
   "outputs": [],
   "source": [
    "df=df.drop(['is_attributed','ip'],axis=1)"
   ]
  },
  {
   "cell_type": "markdown",
   "metadata": {},
   "source": [
    "**Split the dataset into train & test sets**"
   ]
  },
  {
   "cell_type": "code",
   "execution_count": 15,
   "metadata": {},
   "outputs": [
    {
     "name": "stdout",
     "output_type": "stream",
     "text": [
      "(80000, 9) (80000,)\n",
      "(20000, 9) (20000,)\n"
     ]
    }
   ],
   "source": [
    "from sklearn.model_selection import train_test_split\n",
    "x_train,x_test,y_train,y_test=train_test_split(df,target_label,test_size=0.2,random_state=42)\n",
    "print(x_train.shape,y_train.shape)\n",
    "print(x_test.shape,y_test.shape)"
   ]
  },
  {
   "cell_type": "markdown",
   "metadata": {},
   "source": [
    "**Create validation dataset from train dataset**"
   ]
  },
  {
   "cell_type": "code",
   "execution_count": 16,
   "metadata": {},
   "outputs": [
    {
     "name": "stdout",
     "output_type": "stream",
     "text": [
      "(72000, 9) (72000,)\n",
      "(8000, 9) (8000,)\n"
     ]
    }
   ],
   "source": [
    "x_train,x_val,y_train,y_val=train_test_split(x_train,y_train,test_size=0.1,random_state=42)\n",
    "print(x_train.shape,y_train.shape)\n",
    "print(x_val.shape,y_val.shape)"
   ]
  },
  {
   "cell_type": "markdown",
   "metadata": {},
   "source": [
    "**Building LGBM model**"
   ]
  },
  {
   "cell_type": "code",
   "execution_count": 17,
   "metadata": {},
   "outputs": [],
   "source": [
    "import lightgbm as lgb\n",
    "#load datasets in lgb formate\n",
    "train_data=lgb.Dataset(x_train,label=y_train,free_raw_data=False)\n",
    "validation_data=lgb.Dataset(x_val,label=y_val,free_raw_data=False)"
   ]
  },
  {
   "cell_type": "markdown",
   "metadata": {},
   "source": [
    "**LGBM basemodel**"
   ]
  },
  {
   "cell_type": "code",
   "execution_count": 18,
   "metadata": {},
   "outputs": [],
   "source": [
    "#set parameters for training\n",
    "params={ 'num_leaves':160,\n",
    "        'object':'binary',\n",
    "        'metric':['auc','binary_logloss']\n",
    "       }"
   ]
  },
  {
   "cell_type": "code",
   "execution_count": 19,
   "metadata": {},
   "outputs": [],
   "source": [
    "\n",
    "#Original LGB model before sampling\n",
    "num_round=100\n",
    "def lgb_basemodel(x_train,y_train):\n",
    "    lgb_model=lgb.train(params,train_data,num_round,valid_sets=validation_data,early_stopping_rounds=20)\n",
    "    return lgb_model"
   ]
  },
  {
   "cell_type": "markdown",
   "metadata": {},
   "source": [
    "**LGBM model with Downsampling**"
   ]
  },
  {
   "cell_type": "code",
   "execution_count": 20,
   "metadata": {},
   "outputs": [
    {
     "name": "stderr",
     "output_type": "stream",
     "text": [
      "Using TensorFlow backend.\n"
     ]
    }
   ],
   "source": [
    "#LGBM model after resampling the data using Under sampling techniques\n",
    "from imblearn.under_sampling import RandomUnderSampler \n",
    "def lgb_downsampling(x_train,y_train):\n",
    "    lgb_enn=RandomUnderSampler(random_state=42)\n",
    "    x_resample,y_resample=lgb_enn.fit_resample(x_train,y_train)\n",
    "    train_data=lgb.Dataset(x_resample,label=y_resample,free_raw_data=False)\n",
    "    lgb_model=lgb.train(params,train_data,num_round,valid_sets=validation_data,early_stopping_rounds=20)\n",
    "    return lgb_model,x_resample,y_resample;"
   ]
  },
  {
   "cell_type": "markdown",
   "metadata": {},
   "source": [
    "**LGBM model with Upsampling**"
   ]
  },
  {
   "cell_type": "code",
   "execution_count": 21,
   "metadata": {},
   "outputs": [],
   "source": [
    "#LGBM model after resampling the data using Up sampling techniques\n",
    "from imblearn.over_sampling import SMOTE  #Balances the classes by performing upsampling on minority class\n",
    "def lgb_upsampling(x_train,y_train):\n",
    "    lgb_smote= SMOTE(random_state=42)\n",
    "    x_resample,y_resample=lgb_smote.fit_resample(x_train,y_train)\n",
    "    train_data=lgb.Dataset(x_resample,label=y_resample)\n",
    "    lgb_model=lgb.train(params,train_data,num_round,valid_sets=validation_data,early_stopping_rounds=20)\n",
    "    return lgb_model,x_resample,y_resample;"
   ]
  },
  {
   "cell_type": "markdown",
   "metadata": {},
   "source": [
    "**LGBM model with Upweighting**"
   ]
  },
  {
   "cell_type": "code",
   "execution_count": 22,
   "metadata": {},
   "outputs": [
    {
     "name": "stdout",
     "output_type": "stream",
     "text": [
      "Weight factor is 397.41\n"
     ]
    }
   ],
   "source": [
    "weight_factor=zeros.shape[0]/ones.shape[0]  # Ratio of number of samples in majority class to number of samples in minority class\n",
    "print('Weight factor is %0.2f'%(weight_factor))"
   ]
  },
  {
   "cell_type": "code",
   "execution_count": 23,
   "metadata": {},
   "outputs": [],
   "source": [
    "#set parameters for training\n",
    "params1={ 'num_leaves':160,\n",
    "        'object':'binary',\n",
    "        'metric':['auc','binary_logloss'],\n",
    "        'scale_pos_weight':397.41                 #Weight of minority class\n",
    "       }"
   ]
  },
  {
   "cell_type": "code",
   "execution_count": 24,
   "metadata": {},
   "outputs": [],
   "source": [
    "#LGBM model using Upweighting technique for handling the imbalanced data\n",
    "def lgb_Upweighting(x_train,y_train):\n",
    "    lgb_model=lgb.train(params1,train_data,num_round,valid_sets=validation_data,early_stopping_rounds=20)\n",
    "    return lgb_model;"
   ]
  },
  {
   "cell_type": "markdown",
   "metadata": {},
   "source": [
    "**Train the LGBM models**"
   ]
  },
  {
   "cell_type": "code",
   "execution_count": 25,
   "metadata": {},
   "outputs": [
    {
     "name": "stdout",
     "output_type": "stream",
     "text": [
      "[1]\tvalid_0's auc: 0.810517\tvalid_0's binary_logloss: 0.0133975\n",
      "Training until validation scores don't improve for 20 rounds\n",
      "[2]\tvalid_0's auc: 0.802399\tvalid_0's binary_logloss: 0.0126188\n",
      "[3]\tvalid_0's auc: 0.788214\tvalid_0's binary_logloss: 0.0121738\n",
      "[4]\tvalid_0's auc: 0.816347\tvalid_0's binary_logloss: 0.0115731\n",
      "[5]\tvalid_0's auc: 0.813471\tvalid_0's binary_logloss: 0.0111074\n",
      "[6]\tvalid_0's auc: 0.817135\tvalid_0's binary_logloss: 0.0108448\n",
      "[7]\tvalid_0's auc: 0.815348\tvalid_0's binary_logloss: 0.011121\n",
      "[8]\tvalid_0's auc: 0.814062\tvalid_0's binary_logloss: 0.0140231\n",
      "[9]\tvalid_0's auc: 0.762611\tvalid_0's binary_logloss: 0.0143373\n",
      "[10]\tvalid_0's auc: 0.777828\tvalid_0's binary_logloss: 0.0174235\n",
      "[11]\tvalid_0's auc: 0.780848\tvalid_0's binary_logloss: 0.017359\n",
      "[12]\tvalid_0's auc: 0.781788\tvalid_0's binary_logloss: 0.0173266\n",
      "[13]\tvalid_0's auc: 0.787185\tvalid_0's binary_logloss: 0.0172859\n",
      "[14]\tvalid_0's auc: 0.78214\tvalid_0's binary_logloss: 0.0172759\n",
      "[15]\tvalid_0's auc: 0.772275\tvalid_0's binary_logloss: 0.0173223\n",
      "[16]\tvalid_0's auc: 0.772803\tvalid_0's binary_logloss: 0.0173471\n",
      "[17]\tvalid_0's auc: 0.770405\tvalid_0's binary_logloss: 0.0174178\n",
      "[18]\tvalid_0's auc: 0.772437\tvalid_0's binary_logloss: 0.0174806\n",
      "[19]\tvalid_0's auc: 0.774758\tvalid_0's binary_logloss: 0.0175608\n",
      "[20]\tvalid_0's auc: 0.772799\tvalid_0's binary_logloss: 0.0176093\n",
      "[21]\tvalid_0's auc: 0.774069\tvalid_0's binary_logloss: 0.0177149\n",
      "[22]\tvalid_0's auc: 0.774438\tvalid_0's binary_logloss: 0.0179418\n",
      "[23]\tvalid_0's auc: 0.774741\tvalid_0's binary_logloss: 0.0208584\n",
      "[24]\tvalid_0's auc: 0.775084\tvalid_0's binary_logloss: 0.0208698\n",
      "[25]\tvalid_0's auc: 0.776298\tvalid_0's binary_logloss: 0.0209344\n",
      "[26]\tvalid_0's auc: 0.778032\tvalid_0's binary_logloss: 0.0210596\n",
      "Early stopping, best iteration is:\n",
      "[6]\tvalid_0's auc: 0.817135\tvalid_0's binary_logloss: 0.0108448\n"
     ]
    }
   ],
   "source": [
    "#Basemodel\n",
    "lgb_basemodel=lgb_basemodel(x_train,y_train)"
   ]
  },
  {
   "cell_type": "code",
   "execution_count": 26,
   "metadata": {},
   "outputs": [
    {
     "name": "stdout",
     "output_type": "stream",
     "text": [
      "[1]\tvalid_0's auc: 0.884565\tvalid_0's binary_logloss: 0.637798\n",
      "Training until validation scores don't improve for 20 rounds\n",
      "[2]\tvalid_0's auc: 0.87159\tvalid_0's binary_logloss: 0.592268\n",
      "[3]\tvalid_0's auc: 0.870419\tvalid_0's binary_logloss: 0.553912\n",
      "[4]\tvalid_0's auc: 0.873146\tvalid_0's binary_logloss: 0.522069\n",
      "[5]\tvalid_0's auc: 0.871962\tvalid_0's binary_logloss: 0.493478\n",
      "[6]\tvalid_0's auc: 0.873344\tvalid_0's binary_logloss: 0.471355\n",
      "[7]\tvalid_0's auc: 0.882843\tvalid_0's binary_logloss: 0.449876\n",
      "[8]\tvalid_0's auc: 0.892066\tvalid_0's binary_logloss: 0.432155\n",
      "[9]\tvalid_0's auc: 0.889326\tvalid_0's binary_logloss: 0.417134\n",
      "[10]\tvalid_0's auc: 0.892416\tvalid_0's binary_logloss: 0.401418\n",
      "[11]\tvalid_0's auc: 0.900481\tvalid_0's binary_logloss: 0.389628\n",
      "[12]\tvalid_0's auc: 0.900936\tvalid_0's binary_logloss: 0.378584\n",
      "[13]\tvalid_0's auc: 0.903092\tvalid_0's binary_logloss: 0.369635\n",
      "[14]\tvalid_0's auc: 0.903257\tvalid_0's binary_logloss: 0.361439\n",
      "[15]\tvalid_0's auc: 0.903669\tvalid_0's binary_logloss: 0.354295\n",
      "[16]\tvalid_0's auc: 0.904477\tvalid_0's binary_logloss: 0.345999\n",
      "[17]\tvalid_0's auc: 0.901242\tvalid_0's binary_logloss: 0.338408\n",
      "[18]\tvalid_0's auc: 0.900118\tvalid_0's binary_logloss: 0.334583\n",
      "[19]\tvalid_0's auc: 0.897737\tvalid_0's binary_logloss: 0.332235\n",
      "[20]\tvalid_0's auc: 0.894153\tvalid_0's binary_logloss: 0.333855\n",
      "[21]\tvalid_0's auc: 0.892402\tvalid_0's binary_logloss: 0.332268\n",
      "[22]\tvalid_0's auc: 0.891229\tvalid_0's binary_logloss: 0.327799\n",
      "[23]\tvalid_0's auc: 0.887925\tvalid_0's binary_logloss: 0.322763\n",
      "[24]\tvalid_0's auc: 0.887991\tvalid_0's binary_logloss: 0.320056\n",
      "[25]\tvalid_0's auc: 0.888208\tvalid_0's binary_logloss: 0.323427\n",
      "[26]\tvalid_0's auc: 0.888703\tvalid_0's binary_logloss: 0.324529\n",
      "[27]\tvalid_0's auc: 0.891921\tvalid_0's binary_logloss: 0.322348\n",
      "[28]\tvalid_0's auc: 0.890968\tvalid_0's binary_logloss: 0.334295\n",
      "[29]\tvalid_0's auc: 0.890615\tvalid_0's binary_logloss: 0.327316\n",
      "[30]\tvalid_0's auc: 0.890025\tvalid_0's binary_logloss: 0.335053\n",
      "[31]\tvalid_0's auc: 0.890678\tvalid_0's binary_logloss: 0.352572\n",
      "[32]\tvalid_0's auc: 0.88774\tvalid_0's binary_logloss: 0.354165\n",
      "[33]\tvalid_0's auc: 0.883991\tvalid_0's binary_logloss: 0.364185\n",
      "[34]\tvalid_0's auc: 0.886563\tvalid_0's binary_logloss: 0.374351\n",
      "[35]\tvalid_0's auc: 0.884462\tvalid_0's binary_logloss: 0.380185\n",
      "[36]\tvalid_0's auc: 0.885953\tvalid_0's binary_logloss: 0.383395\n",
      "Early stopping, best iteration is:\n",
      "[16]\tvalid_0's auc: 0.904477\tvalid_0's binary_logloss: 0.345999\n"
     ]
    }
   ],
   "source": [
    "#Downsampling model\n",
    "lgb_downsampling,x_down,y_down=lgb_downsampling(x_train,y_train)"
   ]
  },
  {
   "cell_type": "code",
   "execution_count": 27,
   "metadata": {},
   "outputs": [
    {
     "data": {
      "text/plain": [
       "(376,)"
      ]
     },
     "execution_count": 27,
     "metadata": {},
     "output_type": "execute_result"
    }
   ],
   "source": [
    "y_down_df=pd.DataFrame(y_down)\n",
    "y_down.shape"
   ]
  },
  {
   "cell_type": "code",
   "execution_count": 28,
   "metadata": {},
   "outputs": [
    {
     "data": {
      "image/png": "[encoded data removed]",
      "text/plain": [
       "<Figure size 432x288 with 1 Axes>"
      ]
     },
     "metadata": {
      "needs_background": "light"
     },
     "output_type": "display_data"
    }
   ],
   "source": [
    "plt.hist(y_down);"
   ]
  },
  {
   "cell_type": "code",
   "execution_count": 29,
   "metadata": {},
   "outputs": [
    {
     "name": "stdout",
     "output_type": "stream",
     "text": [
      "[1]\tvalid_0's auc: 0.841627\tvalid_0's binary_logloss: 0.603481\n",
      "Training until validation scores don't improve for 20 rounds\n",
      "[2]\tvalid_0's auc: 0.841475\tvalid_0's binary_logloss: 0.529391\n",
      "[3]\tvalid_0's auc: 0.843968\tvalid_0's binary_logloss: 0.467648\n",
      "[4]\tvalid_0's auc: 0.843118\tvalid_0's binary_logloss: 0.415234\n",
      "[5]\tvalid_0's auc: 0.841789\tvalid_0's binary_logloss: 0.370347\n",
      "[6]\tvalid_0's auc: 0.858757\tvalid_0's binary_logloss: 0.332082\n",
      "[7]\tvalid_0's auc: 0.843292\tvalid_0's binary_logloss: 0.298684\n",
      "[8]\tvalid_0's auc: 0.843101\tvalid_0's binary_logloss: 0.269825\n",
      "[9]\tvalid_0's auc: 0.845274\tvalid_0's binary_logloss: 0.244466\n",
      "[10]\tvalid_0's auc: 0.845676\tvalid_0's binary_logloss: 0.222325\n",
      "[11]\tvalid_0's auc: 0.845037\tvalid_0's binary_logloss: 0.202815\n",
      "[12]\tvalid_0's auc: 0.846006\tvalid_0's binary_logloss: 0.185424\n",
      "[13]\tvalid_0's auc: 0.848195\tvalid_0's binary_logloss: 0.170089\n",
      "[14]\tvalid_0's auc: 0.845168\tvalid_0's binary_logloss: 0.156671\n",
      "[15]\tvalid_0's auc: 0.846151\tvalid_0's binary_logloss: 0.144701\n",
      "[16]\tvalid_0's auc: 0.846824\tvalid_0's binary_logloss: 0.133896\n",
      "[17]\tvalid_0's auc: 0.846629\tvalid_0's binary_logloss: 0.123654\n",
      "[18]\tvalid_0's auc: 0.846194\tvalid_0's binary_logloss: 0.114977\n",
      "[19]\tvalid_0's auc: 0.846952\tvalid_0's binary_logloss: 0.107208\n",
      "[20]\tvalid_0's auc: 0.842237\tvalid_0's binary_logloss: 0.100299\n",
      "[21]\tvalid_0's auc: 0.887687\tvalid_0's binary_logloss: 0.0940659\n",
      "[22]\tvalid_0's auc: 0.898054\tvalid_0's binary_logloss: 0.0881488\n",
      "[23]\tvalid_0's auc: 0.894592\tvalid_0's binary_logloss: 0.0830037\n",
      "[24]\tvalid_0's auc: 0.896105\tvalid_0's binary_logloss: 0.078414\n",
      "[25]\tvalid_0's auc: 0.894265\tvalid_0's binary_logloss: 0.074291\n",
      "[26]\tvalid_0's auc: 0.894061\tvalid_0's binary_logloss: 0.0706389\n",
      "[27]\tvalid_0's auc: 0.898067\tvalid_0's binary_logloss: 0.0666432\n",
      "[28]\tvalid_0's auc: 0.897091\tvalid_0's binary_logloss: 0.0637176\n",
      "[29]\tvalid_0's auc: 0.897955\tvalid_0's binary_logloss: 0.0610989\n",
      "[30]\tvalid_0's auc: 0.897358\tvalid_0's binary_logloss: 0.0585338\n",
      "[31]\tvalid_0's auc: 0.900886\tvalid_0's binary_logloss: 0.0564181\n",
      "[32]\tvalid_0's auc: 0.902242\tvalid_0's binary_logloss: 0.054293\n",
      "[33]\tvalid_0's auc: 0.903356\tvalid_0's binary_logloss: 0.0522351\n",
      "[34]\tvalid_0's auc: 0.903821\tvalid_0's binary_logloss: 0.0501322\n",
      "[35]\tvalid_0's auc: 0.908777\tvalid_0's binary_logloss: 0.04853\n",
      "[36]\tvalid_0's auc: 0.912315\tvalid_0's binary_logloss: 0.0472313\n",
      "[37]\tvalid_0's auc: 0.911326\tvalid_0's binary_logloss: 0.045878\n",
      "[38]\tvalid_0's auc: 0.911781\tvalid_0's binary_logloss: 0.0445797\n",
      "[39]\tvalid_0's auc: 0.870604\tvalid_0's binary_logloss: 0.0441041\n",
      "[40]\tvalid_0's auc: 0.870775\tvalid_0's binary_logloss: 0.0426746\n",
      "[41]\tvalid_0's auc: 0.868072\tvalid_0's binary_logloss: 0.0415295\n",
      "[42]\tvalid_0's auc: 0.865084\tvalid_0's binary_logloss: 0.0405608\n",
      "[43]\tvalid_0's auc: 0.86577\tvalid_0's binary_logloss: 0.0396367\n",
      "[44]\tvalid_0's auc: 0.860527\tvalid_0's binary_logloss: 0.0426169\n",
      "[45]\tvalid_0's auc: 0.860056\tvalid_0's binary_logloss: 0.0419296\n",
      "[46]\tvalid_0's auc: 0.857827\tvalid_0's binary_logloss: 0.041419\n",
      "[47]\tvalid_0's auc: 0.855545\tvalid_0's binary_logloss: 0.0408205\n",
      "[48]\tvalid_0's auc: 0.85416\tvalid_0's binary_logloss: 0.0404169\n",
      "[49]\tvalid_0's auc: 0.856561\tvalid_0's binary_logloss: 0.0399815\n",
      "[50]\tvalid_0's auc: 0.85536\tvalid_0's binary_logloss: 0.0394211\n",
      "[51]\tvalid_0's auc: 0.855987\tvalid_0's binary_logloss: 0.0389327\n",
      "[52]\tvalid_0's auc: 0.860329\tvalid_0's binary_logloss: 0.0385229\n",
      "[53]\tvalid_0's auc: 0.860745\tvalid_0's binary_logloss: 0.0380235\n",
      "[54]\tvalid_0's auc: 0.860867\tvalid_0's binary_logloss: 0.0377032\n",
      "[55]\tvalid_0's auc: 0.864863\tvalid_0's binary_logloss: 0.0373905\n",
      "[56]\tvalid_0's auc: 0.863894\tvalid_0's binary_logloss: 0.0370884\n",
      "Early stopping, best iteration is:\n",
      "[36]\tvalid_0's auc: 0.912315\tvalid_0's binary_logloss: 0.0472313\n"
     ]
    }
   ],
   "source": [
    "#Upsampling model\n",
    "lgb_upsampling,x_up,y_up=lgb_upsampling(x_train,y_train)"
   ]
  },
  {
   "cell_type": "code",
   "execution_count": 30,
   "metadata": {},
   "outputs": [
    {
     "data": {
      "text/plain": [
       "(143624,)"
      ]
     },
     "execution_count": 30,
     "metadata": {},
     "output_type": "execute_result"
    }
   ],
   "source": [
    "y_up_df=pd.DataFrame(y_up)\n",
    "y_up.shape"
   ]
  },
  {
   "cell_type": "code",
   "execution_count": 31,
   "metadata": {},
   "outputs": [
    {
     "data": {
      "image/png": "[encoded data removed]",
      "text/plain": [
       "<Figure size 432x288 with 1 Axes>"
      ]
     },
     "metadata": {
      "needs_background": "light"
     },
     "output_type": "display_data"
    }
   ],
   "source": [
    "plt.hist(y_up);"
   ]
  },
  {
   "cell_type": "code",
   "execution_count": 32,
   "metadata": {},
   "outputs": [
    {
     "name": "stdout",
     "output_type": "stream",
     "text": [
      "[1]\tvalid_0's auc: 0.810517\tvalid_0's binary_logloss: 0.0133975\n",
      "Training until validation scores don't improve for 20 rounds\n",
      "[2]\tvalid_0's auc: 0.802399\tvalid_0's binary_logloss: 0.0126188\n",
      "[3]\tvalid_0's auc: 0.788214\tvalid_0's binary_logloss: 0.0121738\n",
      "[4]\tvalid_0's auc: 0.816347\tvalid_0's binary_logloss: 0.0115731\n",
      "[5]\tvalid_0's auc: 0.813471\tvalid_0's binary_logloss: 0.0111074\n",
      "[6]\tvalid_0's auc: 0.817135\tvalid_0's binary_logloss: 0.0108448\n",
      "[7]\tvalid_0's auc: 0.815348\tvalid_0's binary_logloss: 0.011121\n",
      "[8]\tvalid_0's auc: 0.814062\tvalid_0's binary_logloss: 0.0140231\n",
      "[9]\tvalid_0's auc: 0.762611\tvalid_0's binary_logloss: 0.0143373\n",
      "[10]\tvalid_0's auc: 0.777828\tvalid_0's binary_logloss: 0.0174235\n",
      "[11]\tvalid_0's auc: 0.780848\tvalid_0's binary_logloss: 0.017359\n",
      "[12]\tvalid_0's auc: 0.781788\tvalid_0's binary_logloss: 0.0173266\n",
      "[13]\tvalid_0's auc: 0.787185\tvalid_0's binary_logloss: 0.0172859\n",
      "[14]\tvalid_0's auc: 0.78214\tvalid_0's binary_logloss: 0.0172759\n",
      "[15]\tvalid_0's auc: 0.772275\tvalid_0's binary_logloss: 0.0173223\n",
      "[16]\tvalid_0's auc: 0.772803\tvalid_0's binary_logloss: 0.0173471\n",
      "[17]\tvalid_0's auc: 0.770405\tvalid_0's binary_logloss: 0.0174178\n",
      "[18]\tvalid_0's auc: 0.772437\tvalid_0's binary_logloss: 0.0174806\n",
      "[19]\tvalid_0's auc: 0.774758\tvalid_0's binary_logloss: 0.0175608\n",
      "[20]\tvalid_0's auc: 0.772799\tvalid_0's binary_logloss: 0.0176093\n",
      "[21]\tvalid_0's auc: 0.774069\tvalid_0's binary_logloss: 0.0177149\n",
      "[22]\tvalid_0's auc: 0.774438\tvalid_0's binary_logloss: 0.0179418\n",
      "[23]\tvalid_0's auc: 0.774741\tvalid_0's binary_logloss: 0.0208584\n",
      "[24]\tvalid_0's auc: 0.775084\tvalid_0's binary_logloss: 0.0208698\n",
      "[25]\tvalid_0's auc: 0.776298\tvalid_0's binary_logloss: 0.0209344\n",
      "[26]\tvalid_0's auc: 0.778032\tvalid_0's binary_logloss: 0.0210596\n",
      "Early stopping, best iteration is:\n",
      "[6]\tvalid_0's auc: 0.817135\tvalid_0's binary_logloss: 0.0108448\n"
     ]
    }
   ],
   "source": [
    "#Upweighting model \n",
    "lgb_upweighting=lgb_Upweighting(x_train,y_train);"
   ]
  },
  {
   "cell_type": "markdown",
   "metadata": {},
   "source": [
    "**Testing models on unseen dataset**"
   ]
  },
  {
   "cell_type": "code",
   "execution_count": 33,
   "metadata": {},
   "outputs": [],
   "source": [
    "#Basemodel\n",
    "y_base=lgb_basemodel.predict(x_test)"
   ]
  },
  {
   "cell_type": "code",
   "execution_count": 34,
   "metadata": {},
   "outputs": [],
   "source": [
    "#Upsampling\n",
    "y_upsampling=lgb_upsampling.predict(x_test)"
   ]
  },
  {
   "cell_type": "code",
   "execution_count": 35,
   "metadata": {},
   "outputs": [],
   "source": [
    "#Downsampling\n",
    "y_downsampling=lgb_downsampling.predict(x_test)"
   ]
  },
  {
   "cell_type": "code",
   "execution_count": 36,
   "metadata": {},
   "outputs": [],
   "source": [
    "#Upweighting\n",
    "y_upweighting=lgb_upweighting.predict(x_test)"
   ]
  },
  {
   "cell_type": "markdown",
   "metadata": {},
   "source": [
    "**Plot confusion matrix for all Logistic models**"
   ]
  },
  {
   "cell_type": "code",
   "execution_count": 37,
   "metadata": {},
   "outputs": [],
   "source": [
    "from sklearn.metrics import confusion_matrix, classification_report, roc_curve, roc_auc_score\n",
    "import scikitplot as skplt"
   ]
  },
  {
   "cell_type": "code",
   "execution_count": 38,
   "metadata": {},
   "outputs": [
    {
     "data": {
      "image/png": "[encoded data removed]",
      "text/plain": [
       "<Figure size 864x576 with 2 Axes>"
      ]
     },
     "metadata": {
      "needs_background": "light"
     },
     "output_type": "display_data"
    }
   ],
   "source": [
    "#Basemodel\n",
    "skplt.metrics.plot_confusion_matrix(y_test,y_base>0.5,normalize=False,figsize=(12,8),title='Confusion matrix for base model')  \n",
    "plt.show()"
   ]
  },
  {
   "cell_type": "code",
   "execution_count": 39,
   "metadata": {},
   "outputs": [
    {
     "data": {
      "image/png": "[encoded data removed]",
      "text/plain": [
       "<Figure size 864x576 with 2 Axes>"
      ]
     },
     "metadata": {
      "needs_background": "light"
     },
     "output_type": "display_data"
    }
   ],
   "source": [
    "#Upsampling\n",
    "skplt.metrics.plot_confusion_matrix(y_test,y_upsampling>0.5,normalize=False,figsize=(12,8),title='Confusion matrix for upsampling model')  #0.5 is threshold value\n",
    "plt.show()"
   ]
  },
  {
   "cell_type": "code",
   "execution_count": 40,
   "metadata": {},
   "outputs": [
    {
     "data": {
      "image/png": "[encoded data removed]",
      "text/plain": [
       "<Figure size 864x576 with 2 Axes>"
      ]
     },
     "metadata": {
      "needs_background": "light"
     },
     "output_type": "display_data"
    }
   ],
   "source": [
    "#downsampling\n",
    "skplt.metrics.plot_confusion_matrix(y_test,y_downsampling>0.5,normalize=False,figsize=(12,8),title='Confusion matrix for downsampling model')  #0.5 is threshold value\n",
    "plt.show()"
   ]
  },
  {
   "cell_type": "code",
   "execution_count": 41,
   "metadata": {},
   "outputs": [
    {
     "data": {
      "image/png": "[encoded data removed]",
      "text/plain": [
       "<Figure size 864x576 with 2 Axes>"
      ]
     },
     "metadata": {
      "needs_background": "light"
     },
     "output_type": "display_data"
    }
   ],
   "source": [
    "#Upweighting\n",
    "skplt.metrics.plot_confusion_matrix(y_test,y_upweighting>0.5,normalize=False,figsize=(12,8),title='Confusion matrix for upweighting model')  #0.5 is threshold value\n",
    "plt.show()"
   ]
  },
  {
   "cell_type": "markdown",
   "metadata": {},
   "source": [
    "**Classification report for all Logistic models**"
   ]
  },
  {
   "cell_type": "code",
   "execution_count": 42,
   "metadata": {},
   "outputs": [
    {
     "name": "stdout",
     "output_type": "stream",
     "text": [
      "              precision    recall  f1-score   support\n",
      "\n",
      "           0       1.00      1.00      1.00     19956\n",
      "           1       0.00      0.00      0.00        44\n",
      "\n",
      "    accuracy                           1.00     20000\n",
      "   macro avg       0.50      0.50      0.50     20000\n",
      "weighted avg       1.00      1.00      1.00     20000\n",
      "\n"
     ]
    }
   ],
   "source": [
    "#Base model\n",
    "cm_base=classification_report(y_test,y_base>0.5)\n",
    "print(cm_base)"
   ]
  },
  {
   "cell_type": "code",
   "execution_count": 43,
   "metadata": {},
   "outputs": [
    {
     "name": "stdout",
     "output_type": "stream",
     "text": [
      "              precision    recall  f1-score   support\n",
      "\n",
      "           0       1.00      0.99      0.99     19956\n",
      "           1       0.09      0.68      0.17        44\n",
      "\n",
      "    accuracy                           0.98     20000\n",
      "   macro avg       0.55      0.83      0.58     20000\n",
      "weighted avg       1.00      0.98      0.99     20000\n",
      "\n"
     ]
    }
   ],
   "source": [
    "#Upsampling model\n",
    "cm_up=classification_report(y_test,y_upsampling>0.5)\n",
    "print(cm_up)"
   ]
  },
  {
   "cell_type": "code",
   "execution_count": 44,
   "metadata": {},
   "outputs": [
    {
     "name": "stdout",
     "output_type": "stream",
     "text": [
      "              precision    recall  f1-score   support\n",
      "\n",
      "           0       1.00      0.91      0.95     19956\n",
      "           1       0.02      0.93      0.04        44\n",
      "\n",
      "    accuracy                           0.91     20000\n",
      "   macro avg       0.51      0.92      0.50     20000\n",
      "weighted avg       1.00      0.91      0.95     20000\n",
      "\n"
     ]
    }
   ],
   "source": [
    "#Downsampling model\n",
    "cm_up=classification_report(y_test,y_downsampling>0.5)\n",
    "print(cm_up)"
   ]
  },
  {
   "cell_type": "code",
   "execution_count": 45,
   "metadata": {},
   "outputs": [
    {
     "name": "stdout",
     "output_type": "stream",
     "text": [
      "              precision    recall  f1-score   support\n",
      "\n",
      "           0       1.00      1.00      1.00     19956\n",
      "           1       0.00      0.00      0.00        44\n",
      "\n",
      "    accuracy                           1.00     20000\n",
      "   macro avg       0.50      0.50      0.50     20000\n",
      "weighted avg       1.00      1.00      1.00     20000\n",
      "\n"
     ]
    }
   ],
   "source": [
    "#Upweighting model\n",
    "cm_upweight=classification_report(y_test,y_upweighting>0.5)  # 0.5 is threshold value\n",
    "print(cm_upweight)"
   ]
  },
  {
   "cell_type": "markdown",
   "metadata": {},
   "source": [
    "**Conclusions:-**\n",
    "\n",
    "1. Both LGB base & upweighting models are performing same. These models are not at all learning positive labels, so always predicting negative class.\n",
    "2. LGB Upsampling (SMOTE) permormed well among all models. This model performance can be improved further by hypermeter tuning\n",
    "3. LGB downsampling model performing reasonally but not good.\n",
    "\n",
    "All above models are data dependent, so they may perform well on some datasets but not all. It is better to build all models & choose best among for prediction.\n",
    "For large datasets, Ensemble methods can be employed, but these are computationally expensive. Also it is good to check all other sampling methods along with SMOTE & RandomUnderSampler for better understanding of models to handle unbalanced datasets."
   ]
  }
 ],
 "metadata": {
  "kernelspec": {
   "display_name": "Python 3",
   "language": "python",
   "name": "python3"
  },
  "language_info": {
   "codemirror_mode": {
    "name": "ipython",
    "version": 3
   },
   "file_extension": ".py",
   "mimetype": "text/x-python",
   "name": "python",
   "nbconvert_exporter": "python",
   "pygments_lexer": "ipython3",
   "version": "3.6.6"
  }
 },
 "nbformat": 4,
 "nbformat_minor": 1
}
